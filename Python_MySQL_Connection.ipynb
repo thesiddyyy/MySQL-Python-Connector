{
 "cells": [
  {
   "cell_type": "code",
   "execution_count": 1,
   "id": "c5a216ea",
   "metadata": {},
   "outputs": [
    {
     "name": "stdout",
     "output_type": "stream",
     "text": [
      "Defaulting to user installation because normal site-packages is not writeableNote: you may need to restart the kernel to use updated packages.\n",
      "\n",
      "Requirement already satisfied: mysql-connector-python in c:\\users\\gratitude\\appdata\\roaming\\python\\python311\\site-packages (8.3.0)\n"
     ]
    },
    {
     "name": "stderr",
     "output_type": "stream",
     "text": [
      "DEPRECATION: Loading egg at c:\\programdata\\anaconda3\\lib\\site-packages\\vboxapi-1.0-py3.11.egg is deprecated. pip 23.3 will enforce this behaviour change. A possible replacement is to use pip for package installation..\n"
     ]
    }
   ],
   "source": [
    "pip install mysql-connector-python"
   ]
  },
  {
   "cell_type": "code",
   "execution_count": 2,
   "id": "cf1c12a8",
   "metadata": {},
   "outputs": [
    {
     "name": "stdout",
     "output_type": "stream",
     "text": [
      "Note: you may need to restart the kernel to use updated packages.\n"
     ]
    },
    {
     "name": "stderr",
     "output_type": "stream",
     "text": [
      "ERROR: XMLRPC request failed [code: -32500]\n",
      "RuntimeError: PyPI no longer supports 'pip search' (or XML-RPC search). Please use https://pypi.org/search (via a browser) instead. See https://warehouse.pypa.io/api-reference/xml-rpc.html#deprecated-methods for more information.\n"
     ]
    }
   ],
   "source": [
    "pip search mysql-connector"
   ]
  },
  {
   "cell_type": "code",
   "execution_count": 5,
   "id": "7bcf446d",
   "metadata": {},
   "outputs": [],
   "source": [
    "import mysql.connector"
   ]
  },
  {
   "cell_type": "code",
   "execution_count": 7,
   "id": "b3142d13",
   "metadata": {},
   "outputs": [
    {
     "name": "stdout",
     "output_type": "stream",
     "text": [
      "Connection Established\n"
     ]
    }
   ],
   "source": [
    "import mysql.connector\n",
    "mydb= mysql.connector.connect(host = \"localhost\" , password = \"1234\" , user = \"root\")\n",
    "\n",
    "if mydb.is_connected():\n",
    "    print(\"Connection Established\")"
   ]
  },
  {
   "cell_type": "code",
   "execution_count": 8,
   "id": "5d914511",
   "metadata": {},
   "outputs": [],
   "source": [
    "mycursor = mydb.cursor()"
   ]
  },
  {
   "cell_type": "code",
   "execution_count": 9,
   "id": "ed9f560e",
   "metadata": {},
   "outputs": [
    {
     "name": "stdout",
     "output_type": "stream",
     "text": [
      "('aaft',)\n",
      "('asms',)\n",
      "('classical_model',)\n",
      "('employees',)\n",
      "('information_schema',)\n",
      "('mysql',)\n",
      "('performance_schema',)\n",
      "('sys',)\n",
      "('vehicle',)\n"
     ]
    }
   ],
   "source": [
    "mycursor.execute(\"show databases\")\n",
    "for db in mycursor:\n",
    "    print(db)"
   ]
  },
  {
   "cell_type": "code",
   "execution_count": 12,
   "id": "96b3c187",
   "metadata": {},
   "outputs": [
    {
     "name": "stdout",
     "output_type": "stream",
     "text": [
      "Connection Established\n"
     ]
    }
   ],
   "source": [
    "import mysql.connector\n",
    "mydb=mysql.connector.connect(host='localhost',password='1234',user='root')\n",
    "\n",
    "if conn.is_connected():\n",
    "    print(\"Connection Established\")"
   ]
  },
  {
   "cell_type": "code",
   "execution_count": 13,
   "id": "feff81aa",
   "metadata": {},
   "outputs": [],
   "source": [
    "mycursor=mydb.cursor()"
   ]
  },
  {
   "cell_type": "code",
   "execution_count": 14,
   "id": "8a0d6c1c",
   "metadata": {},
   "outputs": [
    {
     "name": "stdout",
     "output_type": "stream",
     "text": [
      "('aaft',)\n",
      "('asms',)\n",
      "('classical_model',)\n",
      "('db2',)\n",
      "('employees',)\n",
      "('information_schema',)\n",
      "('mysql',)\n",
      "('performance_schema',)\n",
      "('sys',)\n",
      "('vehicle',)\n"
     ]
    }
   ],
   "source": [
    "mycursor.execute(\"show databases\")\n",
    "for db in mycursor:\n",
    "    print(db)"
   ]
  },
  {
   "cell_type": "code",
   "execution_count": 15,
   "id": "b7339f64",
   "metadata": {},
   "outputs": [],
   "source": [
    "import mysql.connector\n",
    "mydb=mysql.connector.connect(host='localhost',password='1234',user='root')\n",
    "mycursor=mydb.cursor()\n",
    "mycursor.execute(\"create database SODS\")"
   ]
  },
  {
   "cell_type": "code",
   "execution_count": 16,
   "id": "fd356e30",
   "metadata": {},
   "outputs": [],
   "source": [
    "import mysql.connector\n",
    "mydb=mysql.connector.connect(host='localhost',password='1234',user='root',database='sods')\n",
    "mycursor=mydb.cursor()\n",
    "t=\"CREATE TABLE Book(bookid int(4),title varchar(20),price float(5,2))\"\n",
    "mycursor.execute(t)"
   ]
  },
  {
   "cell_type": "code",
   "execution_count": 17,
   "id": "841b1200",
   "metadata": {},
   "outputs": [
    {
     "name": "stdout",
     "output_type": "stream",
     "text": [
      "('book',)\n"
     ]
    }
   ],
   "source": [
    "import mysql.connector\n",
    "mydb=mysql.connector.connect(host='localhost',password='1234',user='root',database='sods')\n",
    "mycursor=mydb.cursor()\n",
    "mycursor.execute(\"show tables\")\n",
    "for db in mycursor:\n",
    "    print(db)"
   ]
  },
  {
   "cell_type": "code",
   "execution_count": 18,
   "id": "0c9c5e0c",
   "metadata": {},
   "outputs": [],
   "source": [
    "import mysql.connector\n",
    "mydb=mysql.connector.connect(host='localhost',password='1234',user='root',database='sods')\n",
    "mycursor=mydb.cursor()\n",
    "s=\"INSERT INTO book(bookid,title,price) VALUES(%s,%s,%s)\"  \n",
    "r1=(1,'Python2',350)\n",
    "mycursor.execute(s,r1)\n",
    "mydb.commit()"
   ]
  },
  {
   "cell_type": "code",
   "execution_count": 19,
   "id": "b516969e",
   "metadata": {},
   "outputs": [
    {
     "name": "stdout",
     "output_type": "stream",
     "text": [
      "(1, 'Python2', 350.0)\n"
     ]
    }
   ],
   "source": [
    "import mysql.connector\n",
    "mydb=mysql.connector.connect(host='localhost',password='1234',user='root',database='sods')\n",
    "mycursor=mydb.cursor()\n",
    "s=\"SELECT * from book\"\n",
    "mycursor.execute(s)\n",
    "result=mycursor.fetchall()\n",
    "for rec in result:\n",
    "    print(rec)"
   ]
  },
  {
   "cell_type": "code",
   "execution_count": 20,
   "id": "777ada04",
   "metadata": {},
   "outputs": [],
   "source": [
    "import mysql.connector\n",
    "mydb=mysql.connector.connect(host='localhost',password='1234',user='root',database='sods')\n",
    "mycursor=mydb.cursor()\n",
    "s=\"INSERT INTO book(bookid,title,price) VALUES(%s,%s,%s)\"  \n",
    "r1=(1,'SQL',550)\n",
    "mycursor.execute(s,r1)\n",
    "mydb.commit()"
   ]
  },
  {
   "cell_type": "code",
   "execution_count": 21,
   "id": "9388bfc6",
   "metadata": {},
   "outputs": [
    {
     "name": "stdout",
     "output_type": "stream",
     "text": [
      "(1, 'Python2', 350.0)\n",
      "(1, 'SQL', 550.0)\n"
     ]
    }
   ],
   "source": [
    "import mysql.connector\n",
    "mydb=mysql.connector.connect(host='localhost',password='1234',user='root',database='sods')\n",
    "mycursor=mydb.cursor()\n",
    "s=\"SELECT * from book\"\n",
    "mycursor.execute(s)\n",
    "result=mycursor.fetchall()\n",
    "for rec in result:\n",
    "    print(rec)"
   ]
  },
  {
   "cell_type": "code",
   "execution_count": 22,
   "id": "f6900139",
   "metadata": {},
   "outputs": [],
   "source": [
    "import mysql.connector\n",
    "mydb=mysql.connector.connect(host='localhost',password='1234',user='root',database='sods')\n",
    "mycursor=mydb.cursor()\n",
    "s=\"INSERT INTO book(bookid,title,price) VALUES(%s,%s,%s)\"  \n",
    "r1=(1,'ML',450)\n",
    "mycursor.execute(s,r1)\n",
    "mydb.commit()"
   ]
  },
  {
   "cell_type": "code",
   "execution_count": 23,
   "id": "d5adb3e4",
   "metadata": {},
   "outputs": [
    {
     "name": "stdout",
     "output_type": "stream",
     "text": [
      "1 Records affected\n"
     ]
    }
   ],
   "source": [
    "import mysql.connector\n",
    "mydb=mysql.connector.connect(host='localhost',password='1234',user='root',database='sods')\n",
    "mycursor=mydb.cursor()\n",
    "s= \"UPDATE book SET price=price+100 WHERE price=350\"\n",
    "mycursor.execute(s)\n",
    "mydb.commit()\n",
    "print(mycursor.rowcount,\"Records affected\")"
   ]
  },
  {
   "cell_type": "code",
   "execution_count": 24,
   "id": "b95f661d",
   "metadata": {},
   "outputs": [
    {
     "name": "stdout",
     "output_type": "stream",
     "text": [
      "(1, 'Python2', 450.0)\n",
      "(1, 'SQL', 550.0)\n",
      "(1, 'ML', 450.0)\n"
     ]
    }
   ],
   "source": [
    "import mysql.connector\n",
    "mydb=mysql.connector.connect(host='localhost',password='1234',user='root',database='sods')\n",
    "mycursor=mydb.cursor()\n",
    "s=\"SELECT * from book\"\n",
    "mycursor.execute(s)\n",
    "result=mycursor.fetchall()\n",
    "for rec in result:\n",
    "    print(rec)"
   ]
  },
  {
   "cell_type": "code",
   "execution_count": 25,
   "id": "45e5f445",
   "metadata": {},
   "outputs": [],
   "source": [
    "import mysql.connector\n",
    "mydb=mysql.connector.connect(host='localhost',password='1234',user='root',database='sods')\n",
    "mycursor=mydb.cursor()\n",
    "s=\"DELETE FROM book WHERE price=450\"\n",
    "mycursor.execute(s)\n",
    "mydb.commit()"
   ]
  },
  {
   "cell_type": "code",
   "execution_count": 26,
   "id": "d8a11403",
   "metadata": {},
   "outputs": [
    {
     "name": "stdout",
     "output_type": "stream",
     "text": [
      "(1, 'SQL', 550.0)\n"
     ]
    }
   ],
   "source": [
    "import mysql.connector\n",
    "mydb=mysql.connector.connect(host='localhost',password='1234',user='root',database='sods')\n",
    "mycursor=mydb.cursor()\n",
    "s=\"SELECT * from book\"\n",
    "mycursor.execute(s)\n",
    "result=mycursor.fetchall()\n",
    "for rec in result:\n",
    "    print(rec)"
   ]
  },
  {
   "cell_type": "code",
   "execution_count": null,
   "id": "db3c9435",
   "metadata": {},
   "outputs": [],
   "source": []
  }
 ],
 "metadata": {
  "kernelspec": {
   "display_name": "Python 3 (ipykernel)",
   "language": "python",
   "name": "python3"
  },
  "language_info": {
   "codemirror_mode": {
    "name": "ipython",
    "version": 3
   },
   "file_extension": ".py",
   "mimetype": "text/x-python",
   "name": "python",
   "nbconvert_exporter": "python",
   "pygments_lexer": "ipython3",
   "version": "3.11.4"
  }
 },
 "nbformat": 4,
 "nbformat_minor": 5
}
